{
  "cells": [
    {
      "cell_type": "markdown",
      "metadata": {
        "id": "Ca_CyLkdsHHe"
      },
      "source": [
        "# Ensuring Correct Code\n",
        "\n",
        "## Introduction\n",
        "\n",
        "We've seen a lot of code so far, and you'll be writing more of it as well. How do we solve problems using code? Here's one methodology:-\n",
        "\n",
        "1. Write some code\n",
        "2. Code works\n",
        "3. You're done!\n",
        "\n",
        "If you can do the above, congratulations, you can skip everything below and pack up and go home! If you suspect it's not as straightforward though... that's what we're covering in this notebook."
      ]
    },
    {
      "cell_type": "markdown",
      "metadata": {
        "id": "24mHsZHDsHHh"
      },
      "source": [
        "## Problem-solving with Code\n",
        "\n",
        "Let's try thinking about our problem in this way:-\n",
        "\n",
        "1. What do I have? *Input*\n",
        "2. What do I want to get? *Output*\n",
        "3. How do I get from 1. to 2.?\n",
        "4. For each step in 3., repeat all these steps\n",
        "\n",
        "As a concrete example, let's consider a phone-book application. We'll think about the problem as above for one iteration:-\n",
        "\n",
        "1. What do I have?\n",
        "  - Some phone numbers and names\n",
        "\n",
        "2. What do I want to get?\n",
        "  - If I have a name, I should be able to find the phone number. If I have a phone number, I should be able to find the name.\n",
        "\n",
        "3. How do I get from 1. to 2.?\n",
        "  - My phone numbers and names must be stored and linked\n",
        "  - I must be able to search through all numbers\n",
        "  - I must be able to search through all names\n",
        "\n",
        "4. For each step in 3., repeat all these steps"
      ]
    },
    {
      "cell_type": "markdown",
      "metadata": {
        "id": "ABC4L5VqsHHh"
      },
      "source": [
        "## Breaking it down further\n",
        "\n",
        "After one iteration it is clear we're not done. We've identified three steps (answers to question 3), and each of them need to be looked at separately. Let's take the first one, which says \"My phone numbers and names must be stored and linked\". Let's assume the phone numbers and names are given as lists, as below:-"
      ]
    },
    {
      "cell_type": "code",
      "execution_count": null,
      "metadata": {
        "id": "BHne6UC5sHHh"
      },
      "outputs": [],
      "source": [
        "names = ['Dong Ah Wei', 'Shi Rong Hai', 'Qiang Lin Guo',\n",
        "         'An Dong Hai', 'Gang An Wen', 'Tu Jun Wu',\n",
        "         'Huang Ping Qiu', 'Zhou Zheng Huang', 'Shui Yi Qing',\n",
        "         'Bai Tai Qing', 'Chang Min Jin', 'Bo Jian Hung',\n",
        "         'Shi  Zheng  Cheng', 'Heng Hai Hua', 'Jin Zan Rong',\n",
        "         'Guo Da Dong', 'Yong Li Hua', 'Min Wen Ling',\n",
        "         'Lin Su Jing', 'Zan Tu Jiang', 'Rong Ming Xue']\n",
        "numbers = ['012-503 5290', '012-718 9095', '017-462 4563',\n",
        "           '016-868 2837', '013-743 8070', '017-360 0399',\n",
        "           '019-981 5621', '013-802 8090', '017-152 4110',\n",
        "           '012-716 1836', '012-448 7629', '019-466 7718',\n",
        "           '017-954 7798', '016-665 9924', '017-379 1819',\n",
        "           '013-410 3699', '017-772 8574', '013-102 9685',\n",
        "           '013-839 4659', '016-339 5731', '019-953 6751']\n",
        "# All names and numbers are randomly generated and totally fictional."
      ]
    },
    {
      "cell_type": "markdown",
      "metadata": {
        "id": "pg0jWMp2sHHj"
      },
      "source": [
        "Right now, we have to make a choice. We could combine both lists into a list of lists. We could use a Numpy 2D array. We could use a DataFrame.\n",
        "\n",
        "There is normally no one right answer. Also, the choice you make can be changed later on with a bit of work. For now, just choose any one of the above, and write code to convert the 2 lists into your chosen format."
      ]
    },
    {
      "cell_type": "code",
      "execution_count": null,
      "metadata": {
        "id": "MDbh4LzQsHHj"
      },
      "outputs": [],
      "source": [
        "# Empty cell to be filled in by student\n",
        "my_data ="
      ]
    },
    {
      "cell_type": "markdown",
      "metadata": {
        "id": "zc3v69WjsHHk"
      },
      "source": [
        "## Using functions for some tasks\n",
        "\n",
        "Functions are useful for abstraction, meaning they allow us to represent a block of work as a single function instead of multiple lines of code. For example, the conversion that you did before this could be put in a function (you should try this if you have some time).\n",
        "\n",
        "For now, let's write a function to solve our second step, which says \"I must be able to search through all the numbers\". Running through our questions, the 1st question (what do I have) is easy, but the second question (what do I want to get?) needs defining.\n",
        "\n",
        "In summary, I expect that I should be able to run something like:-\n",
        "\n",
        "    name = my_function(a_phone_number)\n",
        "    \n",
        "If I provide a phone number to the function, the function should return the name linked to that number. This seems like a really good reason to write a function. Perhaps we can call it `search_for_number`."
      ]
    },
    {
      "cell_type": "code",
      "execution_count": null,
      "metadata": {
        "id": "G_-ZF2SNsHHl"
      },
      "outputs": [],
      "source": [
        "def search_for_number():\n",
        "    pass"
      ]
    },
    {
      "cell_type": "markdown",
      "metadata": {
        "id": "Fjc14W5nsHHm"
      },
      "source": [
        "The cell above defines a function, but it doesn't do anything! You should decide what input(s) you want the function to have. You should then write some code to find the matching name for the number passed to the function. Remember to `return` the answer at the end. Remember as well that the function should in the end behave as in the example above!"
      ]
    },
    {
      "cell_type": "code",
      "execution_count": null,
      "metadata": {
        "id": "boc95qOYsHHm"
      },
      "outputs": [],
      "source": [
        "# Empty cell to be filled in by student\n",
        "def search_for_number("
      ]
    },
    {
      "cell_type": "markdown",
      "metadata": {
        "id": "z2p8IKdPsHHn"
      },
      "source": [
        "Obviously we need to test whether our function does what we want."
      ]
    },
    {
      "cell_type": "code",
      "execution_count": null,
      "metadata": {
        "id": "yVazDmbNsHHn"
      },
      "outputs": [],
      "source": [
        "# Empty cell to be filled in by student\n",
        "print(search_for_number('017-772 8574'))\n",
        "print(search_for_number('013-802 8090'))\n",
        "print(search_for_number('000-000 0000'))  # What should happen here?"
      ]
    },
    {
      "cell_type": "markdown",
      "metadata": {
        "id": "05WF7B3zsHHo"
      },
      "source": [
        "## Meta considerations\n",
        "\n",
        "So far, your function only takes one input (the name or number). However, it is effectively ALSO taking `my_data` as an input, since it is calling my_data from the *parent scope* (search for 'python scoping' for explanations on what 'scope' means here). This may not be ideal. What would it change/improve/hinder if the my_data variable had to be provided to `search_for_number()` every time you use it?"
      ]
    },
    {
      "cell_type": "markdown",
      "metadata": {
        "id": "mrjkD1EesHHo"
      },
      "source": [
        "## What if it doesn't work?\n",
        "\n",
        "It's entirely possible that you've reached this point without your code not working. This IS a toy problem after all. More likely than not, though, you encountered errors, either Python errors or errors in that the output was not what you expected.\n",
        "\n",
        "Encountering errors is good! It means you can fix things. Part of the purpose of this notebook is to give you a bit of practice at that, in an ungraded environment.\n",
        "\n",
        "When fixing things, consider asking for assistance from the lecturer, your friends, or online searches (StackOverflow in particular is a very useful resource). However simply searching/asking isn't going to help if you have not formulated a theory as to what the problem is. Take a look at the PDF titled \"My code isn't working\" for some tips on common beginner Python errors."
      ]
    }
  ],
  "metadata": {
    "kernelspec": {
      "display_name": "Python 3",
      "language": "python",
      "name": "python3"
    },
    "language_info": {
      "codemirror_mode": {
        "name": "ipython",
        "version": 3
      },
      "file_extension": ".py",
      "mimetype": "text/x-python",
      "name": "python",
      "nbconvert_exporter": "python",
      "pygments_lexer": "ipython3",
      "version": "3.7.3"
    },
    "colab": {
      "provenance": []
    }
  },
  "nbformat": 4,
  "nbformat_minor": 0
}