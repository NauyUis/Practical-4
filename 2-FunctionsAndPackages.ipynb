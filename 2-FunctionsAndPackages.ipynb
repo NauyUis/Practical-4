{
 "cells": [
  {
   "cell_type": "markdown",
   "metadata": {},
   "source": [
    "# Functions and Packages\n",
    "\n",
    "## Introduction\n",
    "\n",
    "A clear understanding of functions and packages is essential to any Python user or programmer. Fortunately (as with most things in Python, the plain English words `function` and `package` serve well to describe these concepts.\n",
    "\n",
    "## Functions\n",
    "\n",
    "Functions are used to DO a FUNCTION. Effectively, they provide code re-use as well as encapsulation."
   ]
  },
  {
   "cell_type": "code",
   "execution_count": null,
   "metadata": {},
   "outputs": [],
   "source": [
    "print(min([2, 7, 8]))  # How many functions are there in this cell?"
   ]
  },
  {
   "cell_type": "markdown",
   "metadata": {},
   "source": [
    "## Introspection (or Finding Out) of Functions\n",
    "\n",
    "The doctext for a function (accessible using the `help` function or the ? functionality of ipython) tells us how to use it and what it does.\n",
    "\n",
    "*Note* - there are two ways to call min, one with an 'iterable' (a list, tuple or other sequence) and another with individual inputs (e.g. `min(1, 5, 2)`)\n",
    "\n",
    "*Note* - functions can have additional optional arguments (default and key in this example). A function can be called with OR without these arguments."
   ]
  },
  {
   "cell_type": "code",
   "execution_count": null,
   "metadata": {},
   "outputs": [],
   "source": [
    "help(min)"
   ]
  },
  {
   "cell_type": "markdown",
   "metadata": {},
   "source": [
    "Of course, the output of a function can be assigned to a variable."
   ]
  },
  {
   "cell_type": "code",
   "execution_count": null,
   "metadata": {},
   "outputs": [],
   "source": [
    "numbers = [8, 2, 5, 7, 0, 1]\n",
    "min_number = min(numbers)\n",
    "print(min_number)"
   ]
  },
  {
   "cell_type": "markdown",
   "metadata": {},
   "source": [
    "## Built-in Functions\n",
    "\n",
    "Python comes with a bunch of 'built-in' functions. How do we know what's available? Try searching for it on your favourite search engine (Hint: 'python built-in functions'). Now try to figure out which of the built-in functions is useful for rounding a number to the nearest 10 (i.e 14 would become 10, 18 would become 20). Use the `help` function to figure out how to use that function."
   ]
  },
  {
   "cell_type": "code",
   "execution_count": null,
   "metadata": {},
   "outputs": [],
   "source": [
    "# Empty cell to be filled in by student"
   ]
  },
  {
   "cell_type": "markdown",
   "metadata": {},
   "source": [
    "## Methods (attached functions)\n",
    "\n",
    "Methods are functions which are attached to classes/objects. Let's take a look at the methods available for our list class."
   ]
  },
  {
   "cell_type": "code",
   "execution_count": null,
   "metadata": {},
   "outputs": [],
   "source": [
    "l = [5, 2, 3, 8]\n",
    "# This line is fun (and complex), feel free to play around with it.\n",
    "# Some keywords for you to google, 'list comprehension', 'attributes', 'startswith'\n",
    "[m for m in dir(l) if callable(getattr(l, m)) and not m.startswith(\"__\")]"
   ]
  },
  {
   "cell_type": "markdown",
   "metadata": {},
   "source": [
    "You've actually already learnt about most of these methods, so let's have a quick test:-\n",
    "\n",
    "1. Create a new list l2 with 3 numbers in it. Add the whole list to l.\n",
    "2. Insert the number -3 into the 2nd position in list l.\n",
    "3. Sort the values of l in descending order."
   ]
  },
  {
   "cell_type": "code",
   "execution_count": null,
   "metadata": {},
   "outputs": [],
   "source": [
    "# Empty cell to be filled in by student"
   ]
  },
  {
   "cell_type": "markdown",
   "metadata": {},
   "source": [
    "## Packages\n",
    "\n",
    "The REAL power of python is the availability of vast numbers of packages for many uses. To get access to these, you'll need to know how to `import`. Here's a few ways."
   ]
  },
  {
   "cell_type": "code",
   "execution_count": null,
   "metadata": {},
   "outputs": [],
   "source": [
    "import math  # Generally, just use this\n",
    "import math as m  # Use this when you're using the package a lot and don't want lines to be too long (e.g. numpy)\n",
    "from math import sqrt  # Use this if you only want ONE function from the math package (if it has a unique name)\n",
    "from math import sqrt as square_root\n",
    "\n",
    "print(math.sqrt(9))\n",
    "print(m.sqrt(16))\n",
    "print(sqrt(25))\n",
    "print(square_root(36))"
   ]
  },
  {
   "cell_type": "markdown",
   "metadata": {},
   "source": [
    "Which of the below is preferable (for readability)?"
   ]
  },
  {
   "cell_type": "code",
   "execution_count": null,
   "metadata": {},
   "outputs": [],
   "source": [
    "from math import pi\n",
    "r = 15\n",
    "circumference = 2 * math.pi * r\n",
    "circumference = 2 * m.pi * r\n",
    "circumference = 2 * pi * r\n",
    "print(\"The circumference is {}.\".format(circumference))"
   ]
  },
  {
   "cell_type": "markdown",
   "metadata": {},
   "source": [
    "## What Package?\n",
    "\n",
    "How to find a package? Search for a python package to generate a normally distributed random number, and create a list of one hundred such random numbers."
   ]
  },
  {
   "cell_type": "code",
   "execution_count": null,
   "metadata": {},
   "outputs": [],
   "source": [
    "# Empty cell to be filled in by student"
   ]
  },
  {
   "cell_type": "markdown",
   "metadata": {},
   "source": [
    "Now, you want to run the following successfully. The mathematical function you want to use is called `inv()` and it is in the `linalg` subpackage of the `scipy` package. What import command should you use?"
   ]
  },
  {
   "cell_type": "code",
   "execution_count": null,
   "metadata": {},
   "outputs": [],
   "source": [
    "# Type an import command below this line\n",
    "\n",
    "\n",
    "# Do not change the cell below this line\n",
    "# The expected answer is [[-2, 1], [1.5, -0.5]]\n",
    "my_inv([[1, 2], [3, 4]])"
   ]
  }
 ],
 "metadata": {
  "kernelspec": {
   "display_name": "Python 3",
   "language": "python",
   "name": "python3"
  },
  "language_info": {
   "codemirror_mode": {
    "name": "ipython",
    "version": 3
   },
   "file_extension": ".py",
   "mimetype": "text/x-python",
   "name": "python",
   "nbconvert_exporter": "python",
   "pygments_lexer": "ipython3",
   "version": "3.7.3"
  }
 },
 "nbformat": 4,
 "nbformat_minor": 2
}
