{
 "cells": [
  {
   "cell_type": "markdown",
   "metadata": {},
   "source": [
    "# Plotting\n",
    "\n",
    "## Introduction\n",
    "\n",
    "Plotting is essential to present outcomes and improve understanding of any form of data. There are many ways to plot figures in Python, but this notebook will cover the (by-far) most popular method."
   ]
  },
  {
   "cell_type": "markdown",
   "metadata": {},
   "source": [
    "## Basic Plotting\n",
    "\n",
    "The 'workhorse' of python plotting is the `matplotlib` package (also check out `seaborn` for easy-to-use advanced functionality)."
   ]
  },
  {
   "cell_type": "code",
   "execution_count": null,
   "metadata": {},
   "outputs": [],
   "source": [
    "import matplotlib.pyplot as plt\n",
    "\n",
    "years = list(range(0, 10))\n",
    "count = [1, 2, 3, 4, 4, 4, 8, 7, 6, 4]\n",
    "plt.plot(years, count)\n",
    "plt.show()  # The actual drawing of the plot is done by calling the 'show()' method"
   ]
  },
  {
   "cell_type": "markdown",
   "metadata": {},
   "source": [
    "## Customizing Plots\n",
    "\n",
    "There are some simple customizations which can be done for better plots. For example:-\n",
    "\n",
    "1. Labelling your axes with `xlabel`/`ylabel`\n",
    "2. Adding a `title`\n",
    "3. Adding a `legend`\n",
    "4. Using a scatterplot\n",
    "\n",
    "Much more can be changed (width/color of lines, xscale/yscale etc.), there are many guides online for further information. Search for terms such as `xscale`, `xticks`, `grid` etc."
   ]
  },
  {
   "cell_type": "code",
   "execution_count": null,
   "metadata": {},
   "outputs": [],
   "source": [
    "PM = [15, 14, 15, 12, 8, 2, -4, 5, 7, 8]\n",
    "plt.xlabel('Years since company founded')\n",
    "plt.ylabel('Number')\n",
    "plt.title('Company performance since foundated')\n",
    "plt.scatter(years, count, label = 'Employees')\n",
    "plt.plot(years, PM, label = 'Profit Margin')\n",
    "plt.legend(loc='best')\n",
    "plt.show()"
   ]
  },
  {
   "cell_type": "markdown",
   "metadata": {},
   "source": [
    "## Histograms\n",
    "\n",
    "One specific type of graph which can prove very useful for certain types of data is the histogram. Below is some data plotted out as a normal plot."
   ]
  },
  {
   "cell_type": "code",
   "execution_count": null,
   "metadata": {},
   "outputs": [],
   "source": [
    "from random import gauss, shuffle\n",
    "# Create initial data and plot it\n",
    "poor_students = [gauss(55, 5) for i in range(50)]\n",
    "strong_students = [gauss(75, 5) for i in range(50)]\n",
    "all_students = poor_students + strong_students\n",
    "shuffle(all_students)\n",
    "plt.plot(all_students)\n",
    "plt.show()"
   ]
  },
  {
   "cell_type": "markdown",
   "metadata": {},
   "source": [
    "A histogram would clearly show the pattern in this data."
   ]
  },
  {
   "cell_type": "code",
   "execution_count": null,
   "metadata": {},
   "outputs": [],
   "source": [
    "plt.hist(all_students)\n",
    "plt.show()"
   ]
  },
  {
   "cell_type": "markdown",
   "metadata": {},
   "source": [
    "Changing the number of bins means we can customize how specific we want to be."
   ]
  },
  {
   "cell_type": "code",
   "execution_count": null,
   "metadata": {},
   "outputs": [],
   "source": [
    "plt.hist(all_students, bins=20)\n",
    "plt.show()\n"
   ]
  }
 ],
 "metadata": {
  "kernelspec": {
   "display_name": "Python 3",
   "language": "python",
   "name": "python3"
  },
  "language_info": {
   "codemirror_mode": {
    "name": "ipython",
    "version": 3
   },
   "file_extension": ".py",
   "mimetype": "text/x-python",
   "name": "python",
   "nbconvert_exporter": "python",
   "pygments_lexer": "ipython3",
   "version": "3.7.3"
  }
 },
 "nbformat": 4,
 "nbformat_minor": 2
}
