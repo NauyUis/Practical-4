{
 "cells": [
  {
   "cell_type": "markdown",
   "metadata": {},
   "source": [
    "# Variables and Types\n",
    "\n",
    "## Introduction\n",
    "\n",
    "All programming languages have the concept of variables and datatypes, Python is no different\n",
    "\n",
    "## Variables\n",
    "\n",
    "Variables can have any name (using letters, numbers, and underscore)."
   ]
  },
  {
   "cell_type": "code",
   "execution_count": null,
   "metadata": {},
   "outputs": [],
   "source": [
    "value = 100\n",
    "print(value)"
   ]
  },
  {
   "cell_type": "markdown",
   "metadata": {},
   "source": [
    "Well.... almost! Let's take a look at the variable name below.\n",
    "\n",
    "*Note* - Do take careful note of how you should read Python error messages (bottom to top)"
   ]
  },
  {
   "cell_type": "code",
   "execution_count": null,
   "metadata": {},
   "outputs": [],
   "source": [
    "1stAmendment = \"Congress shall make no law respecting an establishment of religion, or prohibiting the free exercise thereof; or abridging the freedom of speech, or of the press; or the right of the people peaceably to assemble, and to petition the Government for a redress of grievances.\"\n",
    "print(1stAmendment)"
   ]
  },
  {
   "cell_type": "code",
   "execution_count": null,
   "metadata": {},
   "outputs": [],
   "source": [
    "safety_factor = 2.5\n",
    "shear_strength = 8000\n",
    "design_minimum = shear_strength*(safety_factor**2)\n",
    "print(design_minimum)"
   ]
  },
  {
   "cell_type": "markdown",
   "metadata": {},
   "source": [
    "## Variable Type\n",
    "\n",
    "The type of a variable's data can be found using the `type` function. Let's look at the help for this function."
   ]
  },
  {
   "cell_type": "code",
   "execution_count": null,
   "metadata": {},
   "outputs": [],
   "source": [
    "help(type)"
   ]
  },
  {
   "cell_type": "code",
   "execution_count": 1,
   "metadata": {},
   "outputs": [
    {
     "name": "stdout",
     "output_type": "stream",
     "text": [
      "22222\n",
      "5\n",
      "2\n",
      "1.25\n"
     ]
    }
   ],
   "source": [
    "a = 5\n",
    "b = '2'\n",
    "c = True\n",
    "ab = a*b\n",
    "ac = a*c\n",
    "bc = b*c\n",
    "a_divided = a/4\n",
    "\n",
    "print(ab)\n",
    "print(ac)\n",
    "print(bc)\n",
    "print(a_divided)"
   ]
  },
  {
   "cell_type": "code",
   "execution_count": 2,
   "metadata": {},
   "outputs": [
    {
     "name": "stdout",
     "output_type": "stream",
     "text": [
      "<class 'str'>\n",
      "<class 'int'>\n",
      "<class 'str'>\n",
      "<class 'float'>\n"
     ]
    }
   ],
   "source": [
    "print(type(ab))\n",
    "print(type(ac))\n",
    "print(type(bc))\n",
    "print(type(a_divided))"
   ]
  },
  {
   "cell_type": "markdown",
   "metadata": {},
   "source": [
    "Certain types of operands can't work on certain combinations of types."
   ]
  },
  {
   "cell_type": "code",
   "execution_count": 3,
   "metadata": {},
   "outputs": [
    {
     "name": "stdout",
     "output_type": "stream",
     "text": [
      "22222\n"
     ]
    },
    {
     "ename": "TypeError",
     "evalue": "unsupported operand type(s) for +: 'int' and 'str'",
     "output_type": "error",
     "traceback": [
      "\u001b[1;31m---------------------------------------------------------------------------\u001b[0m",
      "\u001b[1;31mTypeError\u001b[0m                                 Traceback (most recent call last)",
      "Cell \u001b[1;32mIn[3], line 2\u001b[0m\n\u001b[0;32m      1\u001b[0m \u001b[38;5;28mprint\u001b[39m(ab)\n\u001b[1;32m----> 2\u001b[0m \u001b[38;5;28mprint\u001b[39m(\u001b[43ma\u001b[49m\u001b[38;5;241;43m+\u001b[39;49m\u001b[43mb\u001b[49m)\n",
      "\u001b[1;31mTypeError\u001b[0m: unsupported operand type(s) for +: 'int' and 'str'"
     ]
    }
   ],
   "source": [
    "print(ab)\n",
    "print(a+b)"
   ]
  },
  {
   "cell_type": "markdown",
   "metadata": {},
   "source": [
    "When printing, it's normally best to use strings (well, obviously). Adding strings together is one simple method of controlling your print output."
   ]
  },
  {
   "cell_type": "code",
   "execution_count": null,
   "metadata": {},
   "outputs": [],
   "source": [
    "calculation_result = 3.141592653589793238462643383279\n",
    "\n",
    "# Note that to print the double inverted commas, we define the string\n",
    "# using single inverted commas (vice versa also works)\n",
    "print(\"The value of pi that I can remember is \" + '\"' + str(calculation_result) + '\"')"
   ]
  },
  {
   "cell_type": "markdown",
   "metadata": {},
   "source": [
    "Another (perhaps more intuitive) way to format strings is the 'format' method for the string class."
   ]
  },
  {
   "cell_type": "code",
   "execution_count": null,
   "metadata": {},
   "outputs": [],
   "source": [
    "help(str.format)"
   ]
  },
  {
   "cell_type": "code",
   "execution_count": null,
   "metadata": {},
   "outputs": [],
   "source": [
    "my_str = \"some value\"\n",
    "my_str.format?  # This works like `help` but in a popup window"
   ]
  },
  {
   "cell_type": "code",
   "execution_count": null,
   "metadata": {},
   "outputs": [],
   "source": [
    "print('The value of pi that I can remember is \"{}\"'.format(calculation_result))"
   ]
  },
  {
   "cell_type": "markdown",
   "metadata": {},
   "source": [
    "## Lists\n",
    "\n",
    "Lists are fundamental to python, and can contain ANY datatype (including objects, even other lists!). Some operands even work on lists!"
   ]
  },
  {
   "cell_type": "code",
   "execution_count": null,
   "metadata": {},
   "outputs": [],
   "source": [
    "list_of_numbers = [1, 6, 2, 3, 5, 6, 3, 2]\n",
    "list1, list2, list3 = [1, 2, 3], [4, 5], [6, 7, 8]\n",
    "list_of_lists = [list1, list2, list3]\n",
    "list_with_calculations = [3*5, \"a\"+ \" cat\", True or FALSE]\n",
    "name = 'Ng Oon-Ee'\n",
    "age = 18\n",
    "employed = True\n",
    "list_from_variables = [name, age, employed]\n",
    "list_multiplication = list_from_variables*4\n",
    "\n",
    "print(list_of_numbers)\n",
    "print(list_of_lists)\n",
    "print(list_with_calculations)\n",
    "print(list_from_variables)\n",
    "print(list_multiplication)"
   ]
  },
  {
   "cell_type": "code",
   "execution_count": null,
   "metadata": {},
   "outputs": [],
   "source": [
    "list1 = ['one', 'two', 3]\n",
    "age = 25\n",
    "print(list_of_lists)\n",
    "print(list_from_variables)\n",
    "print(list_multiplication)"
   ]
  }
 ],
 "metadata": {
  "kernelspec": {
   "display_name": "Python 3",
   "language": "python",
   "name": "python3"
  },
  "language_info": {
   "codemirror_mode": {
    "name": "ipython",
    "version": 3
   },
   "file_extension": ".py",
   "mimetype": "text/x-python",
   "name": "python",
   "nbconvert_exporter": "python",
   "pygments_lexer": "ipython3",
   "version": "3.11.9"
  }
 },
 "nbformat": 4,
 "nbformat_minor": 2
}
