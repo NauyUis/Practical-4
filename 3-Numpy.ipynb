{
 "cells": [
  {
   "cell_type": "markdown",
   "metadata": {},
   "source": [
    "# Numpy\n",
    "\n",
    "## Introduction\n",
    "\n",
    "Numpy stands for Numerical Python. The package comes with a lot of functionality, but the core is the `array` datatype.\n",
    "\n",
    "You can think of `np.array` objects as being similar to lists, but focused on maths rather than being collections of objects. Because of this, `np.array` objects MUST have the same datatype (unlike lists).\n",
    "\n",
    "## Basic Numpy Arrays"
   ]
  },
  {
   "cell_type": "code",
   "execution_count": null,
   "metadata": {},
   "outputs": [],
   "source": [
    "import numpy as np\n",
    "\n",
    "vec1 = np.array([7, 16, 4, 3])\n",
    "vec2 = np.array([2, 7, 3, '5'])\n",
    "print(vec1)\n",
    "print(vec2)\n",
    "print(vec1 + vec2.astype(float))\n",
    "print(vec1 + vec2)"
   ]
  },
  {
   "cell_type": "markdown",
   "metadata": {},
   "source": [
    "## Arrays from Lists - syntax comparison\n",
    "\n",
    "Converting lists to `np.array` objects is easy!"
   ]
  },
  {
   "cell_type": "code",
   "execution_count": null,
   "metadata": {},
   "outputs": [],
   "source": [
    "costs = [800.00, 250.50, 101.90]\n",
    "np_costs = np.array(costs)\n",
    "print(np_costs)\n",
    "print(type(np_costs))"
   ]
  },
  {
   "cell_type": "markdown",
   "metadata": {},
   "source": [
    "Maths works as you would expect it to for mathematical vectors."
   ]
  },
  {
   "cell_type": "code",
   "execution_count": null,
   "metadata": {},
   "outputs": [],
   "source": [
    "usd_costs = np_costs*4.12\n",
    "print(usd_costs)\n",
    "with_fixed_cost = np_costs + 3000.00\n",
    "print(with_fixed_cost)\n",
    "\n",
    "print(np_costs + np_costs)  # Numpy array\n",
    "print(costs + costs)  # Normal list"
   ]
  },
  {
   "cell_type": "markdown",
   "metadata": {},
   "source": [
    "Indexing works similar to that of lists."
   ]
  },
  {
   "cell_type": "code",
   "execution_count": null,
   "metadata": {},
   "outputs": [],
   "source": [
    "import random\n",
    "weights = [random.randrange(48, 96) for value in range(11)]\n",
    "weights = np.array(weights)\n",
    "print(weights)\n",
    "print(weights[4])\n",
    "print(weights[:4])\n",
    "print(weights[3:-6])\n",
    "print(weights[8:])\n",
    "print(weights[::2])"
   ]
  },
  {
   "cell_type": "markdown",
   "metadata": {},
   "source": [
    "However, you can also use boolean indexing. This means you provide a list/array of boolean values, and those values which are `True` are returned as the result of the slicing."
   ]
  },
  {
   "cell_type": "code",
   "execution_count": null,
   "metadata": {},
   "outputs": [],
   "source": [
    "heavy = weights > 80\n",
    "print(heavy)\n",
    "print(weights[heavy])\n",
    "print(weights[np.invert(heavy)])\n",
    "# Use 'help' to figure out what np.invert does!"
   ]
  },
  {
   "cell_type": "markdown",
   "metadata": {},
   "source": [
    "## Multi-dimensional Numpy arrays\n",
    "\n",
    "Numpy arrays can have more than 1 dimension (that's why they're nd-arrays, where n can be any number)."
   ]
  },
  {
   "cell_type": "code",
   "execution_count": null,
   "metadata": {},
   "outputs": [],
   "source": [
    "weights = [random.randrange(48, 96) for value in range(11)]\n",
    "heights = [random.randrange(140, 190) for value in range(11)]\n",
    "combined = list(zip(heights, weights))\n",
    "combined = np.array(combined)\n",
    "print(combined)\n",
    "print(combined.shape)"
   ]
  },
  {
   "cell_type": "markdown",
   "metadata": {},
   "source": [
    "With multiple dimensions we need multiple indices (plural of index)."
   ]
  },
  {
   "cell_type": "code",
   "execution_count": null,
   "metadata": {},
   "outputs": [],
   "source": [
    "print(combined[5])\n",
    "print(combined[5,:])\n",
    "print(combined[5:7,:])\n",
    "print(combined[5:7,0])\n",
    "print(combined[:,0])\n",
    "print(heights)"
   ]
  },
  {
   "cell_type": "markdown",
   "metadata": {},
   "source": [
    "We can also do maths on these multi-dimensional arrays."
   ]
  },
  {
   "cell_type": "code",
   "execution_count": null,
   "metadata": {},
   "outputs": [],
   "source": [
    "print(combined/1.2)\n",
    "print(combined**2)\n",
    "print(combined - 50)"
   ]
  },
  {
   "cell_type": "code",
   "execution_count": null,
   "metadata": {},
   "outputs": [],
   "source": [
    "conversion = [0.0328084, 2.20462262]  # cm->feet, kg->lb\n",
    "print(combined)\n",
    "print(combined*conversion)"
   ]
  },
  {
   "cell_type": "markdown",
   "metadata": {},
   "source": [
    "## Basic Stats with Numpy\n",
    "\n",
    "Obviously, one of the more interesting mathematical things to do when you have arrays is calculate some basic stats."
   ]
  },
  {
   "cell_type": "code",
   "execution_count": null,
   "metadata": {},
   "outputs": [],
   "source": [
    "print(combined)\n",
    "print(np.mean(combined))  # Does this make sense?"
   ]
  },
  {
   "cell_type": "markdown",
   "metadata": {},
   "source": [
    "Just like with anything else to do with `nd-array` objects, stats would probably benefit from being more specific..."
   ]
  },
  {
   "cell_type": "code",
   "execution_count": null,
   "metadata": {},
   "outputs": [],
   "source": [
    "print(combined)\n",
    "print(np.mean(combined[:,0]))\n",
    "print(np.mean(combined[:,1]))\n",
    "heights = combined[:,0]\n",
    "print(np.max(heights), np.median(heights), np.min(heights), np.std(heights))\n",
    "weights = combined[:,1]\n",
    "print(np.corrcoef(heights, weights))"
   ]
  },
  {
   "cell_type": "markdown",
   "metadata": {},
   "source": [
    "You can even filter out certain values and do your simple stats calculations on the results."
   ]
  },
  {
   "cell_type": "code",
   "execution_count": null,
   "metadata": {},
   "outputs": [],
   "source": [
    "heavy = weights > 80\n",
    "print(weights)\n",
    "print(weights[heavy])\n",
    "print(np.mean(weights))\n",
    "print(np.mean(weights[heavy]))"
   ]
  }
 ],
 "metadata": {
  "kernelspec": {
   "display_name": "Python 3",
   "language": "python",
   "name": "python3"
  },
  "language_info": {
   "codemirror_mode": {
    "name": "ipython",
    "version": 3
   },
   "file_extension": ".py",
   "mimetype": "text/x-python",
   "name": "python",
   "nbconvert_exporter": "python",
   "pygments_lexer": "ipython3",
   "version": "3.7.3"
  }
 },
 "nbformat": 4,
 "nbformat_minor": 2
}
